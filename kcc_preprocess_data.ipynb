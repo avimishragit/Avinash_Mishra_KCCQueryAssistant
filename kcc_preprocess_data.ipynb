{
 "cells": [
  {
   "cell_type": "code",
   "execution_count": 1,
   "id": "a410b302-7ead-44af-8c55-33e73d03c6f9",
   "metadata": {},
   "outputs": [
    {
     "name": "stdout",
     "output_type": "stream",
     "text": [
      "Requirement already satisfied: wordcloud in d:\\anaconda\\lib\\site-packages (1.9.4)\n",
      "Requirement already satisfied: numpy>=1.6.1 in d:\\anaconda\\lib\\site-packages (from wordcloud) (1.26.4)\n",
      "Requirement already satisfied: pillow in d:\\anaconda\\lib\\site-packages (from wordcloud) (10.4.0)\n",
      "Requirement already satisfied: matplotlib in d:\\anaconda\\lib\\site-packages (from wordcloud) (3.9.2)\n",
      "Requirement already satisfied: contourpy>=1.0.1 in d:\\anaconda\\lib\\site-packages (from matplotlib->wordcloud) (1.2.0)\n",
      "Requirement already satisfied: cycler>=0.10 in d:\\anaconda\\lib\\site-packages (from matplotlib->wordcloud) (0.11.0)\n",
      "Requirement already satisfied: fonttools>=4.22.0 in d:\\anaconda\\lib\\site-packages (from matplotlib->wordcloud) (4.51.0)\n",
      "Requirement already satisfied: kiwisolver>=1.3.1 in d:\\anaconda\\lib\\site-packages (from matplotlib->wordcloud) (1.4.4)\n",
      "Requirement already satisfied: packaging>=20.0 in d:\\anaconda\\lib\\site-packages (from matplotlib->wordcloud) (24.1)\n",
      "Requirement already satisfied: pyparsing>=2.3.1 in d:\\anaconda\\lib\\site-packages (from matplotlib->wordcloud) (3.1.2)\n",
      "Requirement already satisfied: python-dateutil>=2.7 in d:\\anaconda\\lib\\site-packages (from matplotlib->wordcloud) (2.9.0.post0)\n",
      "Requirement already satisfied: six>=1.5 in d:\\anaconda\\lib\\site-packages (from python-dateutil>=2.7->matplotlib->wordcloud) (1.16.0)\n"
     ]
    }
   ],
   "source": [
    "!pip install wordcloud"
   ]
  },
  {
   "cell_type": "code",
   "execution_count": 2,
   "id": "9370c1b6-c188-4e80-acd3-e39d9770c15e",
   "metadata": {},
   "outputs": [],
   "source": [
    "import numpy as np\n",
    "import pandas as pd\n",
    "from wordcloud import WordCloud"
   ]
  },
  {
   "cell_type": "code",
   "execution_count": 3,
   "id": "323ea4e7-e588-4373-bfb7-74b9f4602a70",
   "metadata": {},
   "outputs": [
    {
     "data": {
      "text/html": [
       "<div>\n",
       "<style scoped>\n",
       "    .dataframe tbody tr th:only-of-type {\n",
       "        vertical-align: middle;\n",
       "    }\n",
       "\n",
       "    .dataframe tbody tr th {\n",
       "        vertical-align: top;\n",
       "    }\n",
       "\n",
       "    .dataframe thead th {\n",
       "        text-align: right;\n",
       "    }\n",
       "</style>\n",
       "<table border=\"1\" class=\"dataframe\">\n",
       "  <thead>\n",
       "    <tr style=\"text-align: right;\">\n",
       "      <th></th>\n",
       "      <th>StateName</th>\n",
       "      <th>DistrictName</th>\n",
       "      <th>BlockName</th>\n",
       "      <th>Season</th>\n",
       "      <th>Sector</th>\n",
       "      <th>Category</th>\n",
       "      <th>Crop</th>\n",
       "      <th>QueryType</th>\n",
       "      <th>QueryText</th>\n",
       "      <th>KccAns</th>\n",
       "      <th>CreatedOn</th>\n",
       "      <th>year</th>\n",
       "      <th>month</th>\n",
       "    </tr>\n",
       "  </thead>\n",
       "  <tbody>\n",
       "    <tr>\n",
       "      <th>0</th>\n",
       "      <td>A AND N ISLANDS</td>\n",
       "      <td>NICOBAR</td>\n",
       "      <td>CAR NICOBAR</td>\n",
       "      <td>NaN</td>\n",
       "      <td>AGRICULTURE</td>\n",
       "      <td>Others</td>\n",
       "      <td>Others</td>\n",
       "      <td>Government Schemes</td>\n",
       "      <td>Outbound call on Abandoned calls \\t</td>\n",
       "      <td>আপনার একটি মিসেড কল কিষান কল সেন্টারে এসেছিলো,...</td>\n",
       "      <td>2025-03-09T12:18:31.013</td>\n",
       "      <td>2025</td>\n",
       "      <td>3</td>\n",
       "    </tr>\n",
       "    <tr>\n",
       "      <th>1</th>\n",
       "      <td>A AND N ISLANDS</td>\n",
       "      <td>NICOBAR</td>\n",
       "      <td>CAMPBELL BAY</td>\n",
       "      <td>NaN</td>\n",
       "      <td>AGRICULTURE</td>\n",
       "      <td>Others</td>\n",
       "      <td>Others</td>\n",
       "      <td>Government Schemes</td>\n",
       "      <td>Outbound call on Abandoned calls \\t</td>\n",
       "      <td>আপনার একটি মিসেড কল কিষান কল সেন্টারে এসেছিলো,...</td>\n",
       "      <td>2025-03-11T12:29:48.883</td>\n",
       "      <td>2025</td>\n",
       "      <td>3</td>\n",
       "    </tr>\n",
       "    <tr>\n",
       "      <th>2</th>\n",
       "      <td>A AND N ISLANDS</td>\n",
       "      <td>NORTH AND MIDDLE ANDAMAN</td>\n",
       "      <td>DIGLIPUR</td>\n",
       "      <td>NaN</td>\n",
       "      <td>AGRICULTURE</td>\n",
       "      <td>Others</td>\n",
       "      <td>Others</td>\n",
       "      <td>Government Schemes</td>\n",
       "      <td>Outbound call on Abandoned calls \\t</td>\n",
       "      <td>আপনার একটি মিসেড কল কিষান কল সেন্টারে এসেছিলো,...</td>\n",
       "      <td>2025-03-13T13:25:19.823</td>\n",
       "      <td>2025</td>\n",
       "      <td>3</td>\n",
       "    </tr>\n",
       "    <tr>\n",
       "      <th>3</th>\n",
       "      <td>A AND N ISLANDS</td>\n",
       "      <td>SOUTH ANDAMAN</td>\n",
       "      <td>LITTLE ANDAMAN</td>\n",
       "      <td>NaN</td>\n",
       "      <td>AGRICULTURE</td>\n",
       "      <td>Others</td>\n",
       "      <td>Others</td>\n",
       "      <td>Government Schemes</td>\n",
       "      <td>Outbound call on Abandoned calls</td>\n",
       "      <td>আপনার একটি মিসেড কল কিষান কল সেন্টারে এসেছিলো,...</td>\n",
       "      <td>2025-03-08T13:02:24.797</td>\n",
       "      <td>2025</td>\n",
       "      <td>3</td>\n",
       "    </tr>\n",
       "    <tr>\n",
       "      <th>4</th>\n",
       "      <td>A AND N ISLANDS</td>\n",
       "      <td>NORTH AND MIDDLE ANDAMAN</td>\n",
       "      <td>DIGLIPUR</td>\n",
       "      <td>NaN</td>\n",
       "      <td>AGRICULTURE</td>\n",
       "      <td>Others</td>\n",
       "      <td>Others</td>\n",
       "      <td>Government Schemes</td>\n",
       "      <td>Outbound call on Abandoned calls</td>\n",
       "      <td>আপনার একটি মিসেড কল কিষান কল সেন্টারে এসেছিলো,...</td>\n",
       "      <td>2025-03-08T12:56:36.567</td>\n",
       "      <td>2025</td>\n",
       "      <td>3</td>\n",
       "    </tr>\n",
       "  </tbody>\n",
       "</table>\n",
       "</div>"
      ],
      "text/plain": [
       "         StateName              DistrictName       BlockName  Season  \\\n",
       "0  A AND N ISLANDS                   NICOBAR     CAR NICOBAR     NaN   \n",
       "1  A AND N ISLANDS                   NICOBAR    CAMPBELL BAY     NaN   \n",
       "2  A AND N ISLANDS  NORTH AND MIDDLE ANDAMAN        DIGLIPUR     NaN   \n",
       "3  A AND N ISLANDS             SOUTH ANDAMAN  LITTLE ANDAMAN     NaN   \n",
       "4  A AND N ISLANDS  NORTH AND MIDDLE ANDAMAN        DIGLIPUR     NaN   \n",
       "\n",
       "        Sector Category    Crop           QueryType  \\\n",
       "0  AGRICULTURE   Others  Others  Government Schemes   \n",
       "1  AGRICULTURE   Others  Others  Government Schemes   \n",
       "2  AGRICULTURE   Others  Others  Government Schemes   \n",
       "3  AGRICULTURE   Others  Others  Government Schemes   \n",
       "4  AGRICULTURE   Others  Others  Government Schemes   \n",
       "\n",
       "                             QueryText  \\\n",
       "0  Outbound call on Abandoned calls \\t   \n",
       "1  Outbound call on Abandoned calls \\t   \n",
       "2  Outbound call on Abandoned calls \\t   \n",
       "3    Outbound call on Abandoned calls    \n",
       "4    Outbound call on Abandoned calls    \n",
       "\n",
       "                                              KccAns                CreatedOn  \\\n",
       "0  আপনার একটি মিসেড কল কিষান কল সেন্টারে এসেছিলো,...  2025-03-09T12:18:31.013   \n",
       "1  আপনার একটি মিসেড কল কিষান কল সেন্টারে এসেছিলো,...  2025-03-11T12:29:48.883   \n",
       "2  আপনার একটি মিসেড কল কিষান কল সেন্টারে এসেছিলো,...  2025-03-13T13:25:19.823   \n",
       "3  আপনার একটি মিসেড কল কিষান কল সেন্টারে এসেছিলো,...  2025-03-08T13:02:24.797   \n",
       "4  আপনার একটি মিসেড কল কিষান কল সেন্টারে এসেছিলো,...  2025-03-08T12:56:36.567   \n",
       "\n",
       "   year  month  \n",
       "0  2025      3  \n",
       "1  2025      3  \n",
       "2  2025      3  \n",
       "3  2025      3  \n",
       "4  2025      3  "
      ]
     },
     "metadata": {},
     "output_type": "display_data"
    },
    {
     "data": {
      "text/html": [
       "<div>\n",
       "<style scoped>\n",
       "    .dataframe tbody tr th:only-of-type {\n",
       "        vertical-align: middle;\n",
       "    }\n",
       "\n",
       "    .dataframe tbody tr th {\n",
       "        vertical-align: top;\n",
       "    }\n",
       "\n",
       "    .dataframe thead th {\n",
       "        text-align: right;\n",
       "    }\n",
       "</style>\n",
       "<table border=\"1\" class=\"dataframe\">\n",
       "  <thead>\n",
       "    <tr style=\"text-align: right;\">\n",
       "      <th></th>\n",
       "      <th>StateName</th>\n",
       "      <th>DistrictName</th>\n",
       "      <th>BlockName</th>\n",
       "      <th>Season</th>\n",
       "      <th>Sector</th>\n",
       "      <th>Category</th>\n",
       "      <th>Crop</th>\n",
       "      <th>QueryType</th>\n",
       "      <th>QueryText</th>\n",
       "      <th>KccAns</th>\n",
       "      <th>CreatedOn</th>\n",
       "      <th>year</th>\n",
       "      <th>month</th>\n",
       "    </tr>\n",
       "  </thead>\n",
       "  <tbody>\n",
       "    <tr>\n",
       "      <th>0</th>\n",
       "      <td>KERALA</td>\n",
       "      <td>TRIVANDRUM</td>\n",
       "      <td>KAZHAKUTTAM</td>\n",
       "      <td>NaN</td>\n",
       "      <td>HORTICULTURE</td>\n",
       "      <td>Vegetables</td>\n",
       "      <td>Cowpea (Vegetable)</td>\n",
       "      <td>Field Preparation</td>\n",
       "      <td>Asked about field preparation in cowpea</td>\n",
       "      <td>The seeds are either broadcasted or dibbled in...</td>\n",
       "      <td>2024-05-01T11:00:00.863</td>\n",
       "      <td>2024</td>\n",
       "      <td>5</td>\n",
       "    </tr>\n",
       "    <tr>\n",
       "      <th>1</th>\n",
       "      <td>KERALA</td>\n",
       "      <td>TRIVANDRUM</td>\n",
       "      <td>KAZHAKUTTAM</td>\n",
       "      <td>NaN</td>\n",
       "      <td>AGRICULTURE</td>\n",
       "      <td>Others</td>\n",
       "      <td>Others</td>\n",
       "      <td>Government Schemes</td>\n",
       "      <td>Irrelevant call</td>\n",
       "      <td>Irrelevant call</td>\n",
       "      <td>2024-05-01T11:58:45.053</td>\n",
       "      <td>2024</td>\n",
       "      <td>5</td>\n",
       "    </tr>\n",
       "    <tr>\n",
       "      <th>2</th>\n",
       "      <td>KERALA</td>\n",
       "      <td>TRIVANDRUM</td>\n",
       "      <td>KAZHAKUTTAM</td>\n",
       "      <td>NaN</td>\n",
       "      <td>AGRICULTURE</td>\n",
       "      <td>Others</td>\n",
       "      <td>Others</td>\n",
       "      <td>Weather</td>\n",
       "      <td>Farmer asked query on Weather</td>\n",
       "      <td>Suggested Weather forecast for Kazhakoottam- T...</td>\n",
       "      <td>2024-05-01T12:00:17.16</td>\n",
       "      <td>2024</td>\n",
       "      <td>5</td>\n",
       "    </tr>\n",
       "    <tr>\n",
       "      <th>3</th>\n",
       "      <td>KERALA</td>\n",
       "      <td>TRIVANDRUM</td>\n",
       "      <td>0</td>\n",
       "      <td>NaN</td>\n",
       "      <td>AGRICULTURE</td>\n",
       "      <td>Others</td>\n",
       "      <td>Others</td>\n",
       "      <td>Training and Exposure Visits</td>\n",
       "      <td>Blank call</td>\n",
       "      <td>Kindly call 18001801551 if have any queries re...</td>\n",
       "      <td>2024-05-02T15:39:00.55</td>\n",
       "      <td>2024</td>\n",
       "      <td>5</td>\n",
       "    </tr>\n",
       "    <tr>\n",
       "      <th>4</th>\n",
       "      <td>KERALA</td>\n",
       "      <td>TRIVANDRUM</td>\n",
       "      <td>PARASSALA</td>\n",
       "      <td>NaN</td>\n",
       "      <td>HORTICULTURE</td>\n",
       "      <td>Vegetables</td>\n",
       "      <td>Bhindi(Okra/Ladysfinger)</td>\n",
       "      <td>Nutrient Management</td>\n",
       "      <td>Asked about the management of colour change in...</td>\n",
       "      <td>Suggested to spray calcium nitrate 2g and Bora...</td>\n",
       "      <td>2024-05-02T19:34:45.167</td>\n",
       "      <td>2024</td>\n",
       "      <td>5</td>\n",
       "    </tr>\n",
       "  </tbody>\n",
       "</table>\n",
       "</div>"
      ],
      "text/plain": [
       "  StateName DistrictName    BlockName  Season        Sector    Category  \\\n",
       "0    KERALA   TRIVANDRUM  KAZHAKUTTAM     NaN  HORTICULTURE  Vegetables   \n",
       "1    KERALA   TRIVANDRUM  KAZHAKUTTAM     NaN   AGRICULTURE      Others   \n",
       "2    KERALA   TRIVANDRUM  KAZHAKUTTAM     NaN   AGRICULTURE      Others   \n",
       "3    KERALA   TRIVANDRUM         0        NaN   AGRICULTURE      Others   \n",
       "4    KERALA   TRIVANDRUM    PARASSALA     NaN  HORTICULTURE  Vegetables   \n",
       "\n",
       "                       Crop                     QueryType  \\\n",
       "0        Cowpea (Vegetable)             Field Preparation   \n",
       "1                    Others            Government Schemes   \n",
       "2                    Others                       Weather   \n",
       "3                    Others  Training and Exposure Visits   \n",
       "4  Bhindi(Okra/Ladysfinger)           Nutrient Management   \n",
       "\n",
       "                                           QueryText  \\\n",
       "0            Asked about field preparation in cowpea   \n",
       "1                                    Irrelevant call   \n",
       "2                      Farmer asked query on Weather   \n",
       "3                                         Blank call   \n",
       "4  Asked about the management of colour change in...   \n",
       "\n",
       "                                              KccAns                CreatedOn  \\\n",
       "0  The seeds are either broadcasted or dibbled in...  2024-05-01T11:00:00.863   \n",
       "1                                    Irrelevant call  2024-05-01T11:58:45.053   \n",
       "2  Suggested Weather forecast for Kazhakoottam- T...   2024-05-01T12:00:17.16   \n",
       "3  Kindly call 18001801551 if have any queries re...   2024-05-02T15:39:00.55   \n",
       "4  Suggested to spray calcium nitrate 2g and Bora...  2024-05-02T19:34:45.167   \n",
       "\n",
       "   year  month  \n",
       "0  2024      5  \n",
       "1  2024      5  \n",
       "2  2024      5  \n",
       "3  2024      5  \n",
       "4  2024      5  "
      ]
     },
     "metadata": {},
     "output_type": "display_data"
    },
    {
     "data": {
      "text/html": [
       "<div>\n",
       "<style scoped>\n",
       "    .dataframe tbody tr th:only-of-type {\n",
       "        vertical-align: middle;\n",
       "    }\n",
       "\n",
       "    .dataframe tbody tr th {\n",
       "        vertical-align: top;\n",
       "    }\n",
       "\n",
       "    .dataframe thead th {\n",
       "        text-align: right;\n",
       "    }\n",
       "</style>\n",
       "<table border=\"1\" class=\"dataframe\">\n",
       "  <thead>\n",
       "    <tr style=\"text-align: right;\">\n",
       "      <th></th>\n",
       "      <th>questions</th>\n",
       "      <th>answers</th>\n",
       "    </tr>\n",
       "  </thead>\n",
       "  <tbody>\n",
       "    <tr>\n",
       "      <th>0</th>\n",
       "      <td>asking about the control measure for aphid inf...</td>\n",
       "      <td>suggested him to spray rogor@2ml/lit.at evenin...</td>\n",
       "    </tr>\n",
       "    <tr>\n",
       "      <th>1</th>\n",
       "      <td>asking about the control measure of flower dro...</td>\n",
       "      <td>suggested him to apply fertilizer in recommend...</td>\n",
       "    </tr>\n",
       "    <tr>\n",
       "      <th>2</th>\n",
       "      <td>asking about how to avail kisan credit card lo...</td>\n",
       "      <td>suggested to consult with officer-marketing an...</td>\n",
       "    </tr>\n",
       "    <tr>\n",
       "      <th>3</th>\n",
       "      <td>asking about source of early ahu rice variety</td>\n",
       "      <td>suggested to take early ahu rice variety from ...</td>\n",
       "    </tr>\n",
       "    <tr>\n",
       "      <th>4</th>\n",
       "      <td>asking that he has not got proper friut from h...</td>\n",
       "      <td>suggested him to aplly recommended fertilizer ...</td>\n",
       "    </tr>\n",
       "  </tbody>\n",
       "</table>\n",
       "</div>"
      ],
      "text/plain": [
       "                                           questions  \\\n",
       "0  asking about the control measure for aphid inf...   \n",
       "1  asking about the control measure of flower dro...   \n",
       "2  asking about how to avail kisan credit card lo...   \n",
       "3      asking about source of early ahu rice variety   \n",
       "4  asking that he has not got proper friut from h...   \n",
       "\n",
       "                                             answers  \n",
       "0  suggested him to spray rogor@2ml/lit.at evenin...  \n",
       "1  suggested him to apply fertilizer in recommend...  \n",
       "2  suggested to consult with officer-marketing an...  \n",
       "3  suggested to take early ahu rice variety from ...  \n",
       "4  suggested him to aplly recommended fertilizer ...  "
      ]
     },
     "metadata": {},
     "output_type": "display_data"
    }
   ],
   "source": [
    "df1 = pd.read_csv('a_n.csv')\n",
    "df2 = pd.read_csv('kerela_2024.csv')\n",
    "df3 = pd.read_csv('kaggle.csv')\n",
    "display(df1.head(),df2.head(),df3.head())"
   ]
  },
  {
   "cell_type": "code",
   "execution_count": 4,
   "id": "a2ecdf1c-cfbd-44f1-9dad-ee6fa8b6ca40",
   "metadata": {},
   "outputs": [
    {
     "data": {
      "text/plain": [
       "((24, 13), (26601, 13), (178939, 2))"
      ]
     },
     "execution_count": 4,
     "metadata": {},
     "output_type": "execute_result"
    }
   ],
   "source": [
    "df1.shape,df2.shape,df3.shape"
   ]
  },
  {
   "cell_type": "code",
   "execution_count": 5,
   "id": "55a59036-bc62-42d7-a48d-0504e9178563",
   "metadata": {},
   "outputs": [
    {
     "data": {
      "text/plain": [
       "((24, 2), (26601, 2))"
      ]
     },
     "execution_count": 5,
     "metadata": {},
     "output_type": "execute_result"
    }
   ],
   "source": [
    "df1_clean = df1[['QueryText','KccAns']]\n",
    "df2_clean = df2[['QueryText','KccAns']]\n",
    "df1_clean.shape,df2_clean.shape"
   ]
  },
  {
   "cell_type": "code",
   "execution_count": 6,
   "id": "3e03c4cc-3e09-4c66-b49a-dc13d4dcc187",
   "metadata": {},
   "outputs": [
    {
     "data": {
      "text/plain": [
       "(Index(['questions', 'answers'], dtype='object'),\n",
       " Index(['questions', 'answers'], dtype='object'))"
      ]
     },
     "execution_count": 6,
     "metadata": {},
     "output_type": "execute_result"
    }
   ],
   "source": [
    "df1_clean = df1_clean.rename(columns = {'QueryText':'questions','KccAns':'answers'})\n",
    "df2_clean = df2_clean.rename(columns = {'QueryText':'questions','KccAns':'answers'})\n",
    "df1_clean.columns,df2_clean.columns"
   ]
  },
  {
   "cell_type": "code",
   "execution_count": 7,
   "id": "7915e77d-0436-4512-91cd-66aa2d9c8f1b",
   "metadata": {},
   "outputs": [],
   "source": [
    "for col in df1_clean.columns:\n",
    "    df1_clean[col] = df1_clean[col].str.lower()\n",
    "for col in df2_clean.columns:\n",
    "    df2_clean[col] = df2_clean[col].str.lower()"
   ]
  },
  {
   "cell_type": "code",
   "execution_count": 8,
   "id": "3cb925be-532a-435a-b2d7-8fab78083f87",
   "metadata": {},
   "outputs": [
    {
     "data": {
      "text/plain": [
       "(                             questions  \\\n",
       " 0  outbound call on abandoned calls \\t   \n",
       " 1  outbound call on abandoned calls \\t   \n",
       " 2  outbound call on abandoned calls \\t   \n",
       " 3    outbound call on abandoned calls    \n",
       " 4    outbound call on abandoned calls    \n",
       " \n",
       "                                              answers  \n",
       " 0  আপনার একটি মিসেড কল কিষান কল সেন্টারে এসেছিলো,...  \n",
       " 1  আপনার একটি মিসেড কল কিষান কল সেন্টারে এসেছিলো,...  \n",
       " 2  আপনার একটি মিসেড কল কিষান কল সেন্টারে এসেছিলো,...  \n",
       " 3  আপনার একটি মিসেড কল কিষান কল সেন্টারে এসেছিলো,...  \n",
       " 4  আপনার একটি মিসেড কল কিষান কল সেন্টারে এসেছিলো,...  ,\n",
       "                                            questions  \\\n",
       " 0            asked about field preparation in cowpea   \n",
       " 1                                    irrelevant call   \n",
       " 2                      farmer asked query on weather   \n",
       " 3                                         blank call   \n",
       " 4  asked about the management of colour change in...   \n",
       " \n",
       "                                              answers  \n",
       " 0  the seeds are either broadcasted or dibbled in...  \n",
       " 1                                    irrelevant call  \n",
       " 2  suggested weather forecast for kazhakoottam- t...  \n",
       " 3  kindly call 18001801551 if have any queries re...  \n",
       " 4  suggested to spray calcium nitrate 2g and bora...  )"
      ]
     },
     "execution_count": 8,
     "metadata": {},
     "output_type": "execute_result"
    }
   ],
   "source": [
    "df1_clean.head(),df2_clean.head()"
   ]
  },
  {
   "cell_type": "code",
   "execution_count": 9,
   "id": "fcf3f735-12de-4082-9d81-eab3b727dbdc",
   "metadata": {},
   "outputs": [
    {
     "data": {
      "text/plain": [
       "questions\n",
       "outbound call on abandoned calls \\t                                                                                                                                                   8\n",
       "outbound call on abandoned calls                                                                                                                                                      7\n",
       "asking about the mobile number registered issue in pradhan mantri kisan samman nidhi yojana .                                                                                         1\n",
       "kisan call centre abandone outbound call                                                                                                                                              1\n",
       "kisan call centre outbound call                                                                                                                                                       1\n",
       "outbound call on abandoned calls                                                                                                                                                      1\n",
       "asking about status  of  pm-kisan samman nidhi yojana.\\t\\t\\t\\t\\t\\t\\t\\t\\t\\t\\t\\t\\t\\t\\t\\t\\t\\t\\t\\t\\t\\t\\t\\t\\t\\t\\t\\t\\t\\t\\t\\t\\t\\t\\t\\t\\t\\t\\t\\t\\t\\t\\t\\t\\t\\t\\t\\t\\t\\t\\t\\t\\t\\t\\t\\t\\t\\t\\t\\t\\t\\t    1\n",
       "asking about the urea and dap fertilizer.                                                                                                                                             1\n",
       "asking about the fish market.                                                                                                                                                         1\n",
       "--outbound call on abandoned calls \\t                                                                                                                                                 1\n",
       "Name: count, dtype: int64"
      ]
     },
     "execution_count": 9,
     "metadata": {},
     "output_type": "execute_result"
    }
   ],
   "source": [
    "df1_clean['questions'].value_counts().head(10)"
   ]
  },
  {
   "cell_type": "code",
   "execution_count": 10,
   "id": "ef4adc23-f940-48df-8b50-8ab17f18a3dc",
   "metadata": {},
   "outputs": [],
   "source": [
    "df1_clean.drop_duplicates(inplace = True)\n",
    "df1_clean.dropna(inplace = True)\n",
    "df2_clean.drop_duplicates(inplace = True)\n",
    "df2_clean.dropna(inplace = True)"
   ]
  },
  {
   "cell_type": "code",
   "execution_count": 11,
   "id": "55955c00-14fb-4186-8d28-d13fd88c8eac",
   "metadata": {},
   "outputs": [],
   "source": [
    "import re\n",
    "# Cleaning function\n",
    "def clean_text(text):\n",
    "    text = str(text).lower()\n",
    "    text = re.sub(r'[^a-zA-Z\\s@\\./(),-]', '', text)  \n",
    "    text = re.sub(r'\\s+', ' ', text).strip()\n",
    "    \n",
    "    return text\n",
    "# Normalize both questions and answers\n",
    "df1_clean['questions'] = df1_clean['questions'].apply(clean_text)\n",
    "df1_clean['answers'] = df1_clean['answers'].apply(clean_text)\n",
    "df2_clean['questions'] = df2_clean['questions'].apply(clean_text)\n",
    "df2_clean['answers'] = df2_clean['answers'].apply(clean_text)\n",
    "df1_clean.drop_duplicates(inplace = True)\n",
    "df1_clean.dropna(inplace = True)\n",
    "df2_clean.drop_duplicates(inplace = True)\n",
    "df2_clean.dropna(inplace = True)"
   ]
  },
  {
   "cell_type": "code",
   "execution_count": 12,
   "id": "d0696f3c-5745-4b75-88fb-24340a2caf3d",
   "metadata": {},
   "outputs": [
    {
     "data": {
      "text/plain": [
       "questions\n",
       "outbound call on abandoned calls                                                                 2\n",
       "asking about the mobile number registered issue in pradhan mantri kisan samman nidhi yojana .    1\n",
       "kisan call centre abandone outbound call                                                         1\n",
       "kisan call centre outbound call                                                                  1\n",
       "asking about status of pm-kisan samman nidhi yojana.                                             1\n",
       "asking about the urea and dap fertilizer.                                                        1\n",
       "asking about the fish market.                                                                    1\n",
       "--outbound call on abandoned calls                                                               1\n",
       "asking about pm kisan samman nidhi yojana status                                                 1\n",
       "Name: count, dtype: int64"
      ]
     },
     "execution_count": 12,
     "metadata": {},
     "output_type": "execute_result"
    }
   ],
   "source": [
    "df1_clean['questions'].value_counts().head(10)\n"
   ]
  },
  {
   "cell_type": "code",
   "execution_count": 13,
   "id": "0bf1e8a9-8e54-4db5-b3cb-a847c3a42b1d",
   "metadata": {},
   "outputs": [],
   "source": [
    "df1_clean = df1_clean[~df1_clean['questions'].str.contains('outbound call', case=False, na=False)]"
   ]
  },
  {
   "cell_type": "code",
   "execution_count": 14,
   "id": "7d705862-4675-4364-9837-3cbe40113ca7",
   "metadata": {},
   "outputs": [
    {
     "data": {
      "text/plain": [
       "questions\n",
       "asking about the mobile number registered issue in pradhan mantri kisan samman nidhi yojana .    1\n",
       "asking about status of pm-kisan samman nidhi yojana.                                             1\n",
       "asking about the urea and dap fertilizer.                                                        1\n",
       "asking about the fish market.                                                                    1\n",
       "asking about pm kisan samman nidhi yojana status                                                 1\n",
       "Name: count, dtype: int64"
      ]
     },
     "execution_count": 14,
     "metadata": {},
     "output_type": "execute_result"
    }
   ],
   "source": [
    "df1_clean['questions'].value_counts().head(10)"
   ]
  },
  {
   "cell_type": "code",
   "execution_count": 15,
   "id": "eb4ebfb4-00bb-47ec-ac13-fd99534abafe",
   "metadata": {},
   "outputs": [
    {
     "data": {
      "text/plain": [
       "questions\n",
       "farmer asked query on weather                                                      654\n",
       "asked query related to pm kisan samman nidhi scheme                                608\n",
       "asked about not crediting installments of pm kisan samman nidhi scheme             402\n",
       "asked to check beneficiary status in pm kisan samman nidhi scheme                  377\n",
       "asked about updation of registration in pm kisan samman nidhi scheme               190\n",
       "asked about the pm kisan samman nidhi scheme                                       159\n",
       "asked about pm kisan                                                               119\n",
       "asked about pm kisan samman nidhi scheme                                           103\n",
       "asked about not crediting the last installment of pm kisan samman nidhi scheme      97\n",
       "asked about the th installment of pm kisan samman nidhi scheme                      97\n",
       "asked about th installment of pm kisan samman nidhi scheme                          93\n",
       "asked about pm kisan beneficiary status                                             83\n",
       "asked about nutrient management in coconut                                          82\n",
       "asked query related to pm kisan scheme                                              80\n",
       "asked query related to pm kisan samman nidhi scheme beneficiary status              78\n",
       "incomplete call                                                                     69\n",
       "aif survey                                                                          60\n",
       "asked about management of rhinoceros beetle in coconut                              59\n",
       "asked query related to pm kisan                                                     57\n",
       "asked about not crediting the last installments of pm kisan samman nidhi scheme     49\n",
       "asked about pm kisan samman nidhi scheme status                                     47\n",
       "asked about query related to pm kisan samman nidhi scheme                           44\n",
       "asked about pm kisan scheme                                                         41\n",
       "asked about not crediting installments of pm kisan                                  40\n",
       "asked about management of red palm weevil in coconut                                38\n",
       "asked about not crediting th installment of pm kisan samman nidhi scheme            36\n",
       "asked about management of bud rot in coconut                                        36\n",
       "asked about pm kisan new farmer registration                                        35\n",
       "asked about nutrient management in banana                                           34\n",
       "blank call                                                                          34\n",
       "Name: count, dtype: int64"
      ]
     },
     "execution_count": 15,
     "metadata": {},
     "output_type": "execute_result"
    }
   ],
   "source": [
    "df2_clean['questions'].value_counts().head(30)"
   ]
  },
  {
   "cell_type": "code",
   "execution_count": 16,
   "id": "da232cab-d8fc-4e34-96ad-bf2bc4e83f88",
   "metadata": {},
   "outputs": [
    {
     "data": {
      "text/plain": [
       "questions\n",
       "farmer asked query on weather                                                      654\n",
       "asked query related to pm kisan samman nidhi scheme                                608\n",
       "asked about not crediting installments of pm kisan samman nidhi scheme             402\n",
       "asked to check beneficiary status in pm kisan samman nidhi scheme                  377\n",
       "asked about updation of registration in pm kisan samman nidhi scheme               190\n",
       "asked about the pm kisan samman nidhi scheme                                       159\n",
       "asked about pm kisan                                                               119\n",
       "asked about pm kisan samman nidhi scheme                                           103\n",
       "asked about the th installment of pm kisan samman nidhi scheme                      97\n",
       "asked about not crediting the last installment of pm kisan samman nidhi scheme      97\n",
       "asked about th installment of pm kisan samman nidhi scheme                          93\n",
       "asked about pm kisan beneficiary status                                             83\n",
       "asked about nutrient management in coconut                                          82\n",
       "asked query related to pm kisan scheme                                              80\n",
       "asked query related to pm kisan samman nidhi scheme beneficiary status              78\n",
       "aif survey                                                                          60\n",
       "asked about management of rhinoceros beetle in coconut                              59\n",
       "asked query related to pm kisan                                                     57\n",
       "asked about not crediting the last installments of pm kisan samman nidhi scheme     49\n",
       "asked about pm kisan samman nidhi scheme status                                     47\n",
       "asked about query related to pm kisan samman nidhi scheme                           44\n",
       "asked about pm kisan scheme                                                         41\n",
       "asked about not crediting installments of pm kisan                                  40\n",
       "asked about management of red palm weevil in coconut                                38\n",
       "asked about not crediting th installment of pm kisan samman nidhi scheme            36\n",
       "asked about management of bud rot in coconut                                        36\n",
       "asked about pm kisan new farmer registration                                        35\n",
       "asked about nutrient management in banana                                           34\n",
       "asked about pmkisan beneficiary status                                              33\n",
       "asked about pm kisan scheme status                                                  33\n",
       "Name: count, dtype: int64"
      ]
     },
     "execution_count": 16,
     "metadata": {},
     "output_type": "execute_result"
    }
   ],
   "source": [
    "unimportant_keywords = [\"blank call\", \"irrelevant call\", \"incomplete call\",\"outbound call\"]\n",
    "df2_clean = df2_clean[~df2_clean['questions'].str.contains('|'.join(unimportant_keywords), case=False, na=False)]\n",
    "df2_clean['questions'].value_counts().head(30)"
   ]
  },
  {
   "cell_type": "code",
   "execution_count": 17,
   "id": "87c9f9ba-60d8-4782-94bf-6b9e3aee1209",
   "metadata": {},
   "outputs": [
    {
     "data": {
      "text/plain": [
       "questions\n",
       "query regarding pmkisan.                                                                                    1065\n",
       "asking about pm kisan samman nidhi yojona                                                                    915\n",
       "agriculture related problem.                                                                                 564\n",
       "asking about pm kisan samman nidhi yojona.                                                                   459\n",
       "asking cultural practices                                                                                    439\n",
       "asking about fertilizer dose                                                                                 422\n",
       "query regarding pm kisan.                                                                                    393\n",
       "asking about treatment of diarrhoea in cow.                                                                  383\n",
       "asking about the treatment of mastitis of a cow.                                                             377\n",
       "query regarding kcc loan                                                                                     352\n",
       "asked about carp culture                                                                                     350\n",
       "asking for cultural practices                                                                                345\n",
       "asking about the source of information of pure goat breed.                                                   337\n",
       "problem of rice stem borer.                                                                                  249\n",
       "asking about kisan credit card                                                                               248\n",
       "asking about the control measure to control immature fruit drop problem in coconut at the age of 5 years     236\n",
       "asking about treatment of cough in cow.                                                                      234\n",
       "query regarding liming in pond                                                                               229\n",
       "asking about cultural practise                                                                               209\n",
       "asking for govt subsidised scheme of agriculture                                                             205\n",
       "desease                                                                                                      194\n",
       "asking about the vetenery                                                                                    191\n",
       "asking about the veterinary queries                                                                          187\n",
       " query regarding pm kisan                                                                                    185\n",
       "asking about treatment of mastitis in cow.                                                                   182\n",
       "asking about the control measure to control anthracnose disease in chilli.                                   179\n",
       "problem of fruit borer in brinjal.                                                                           177\n",
       "asking about pm kisan maan dhan yojana                                                                       173\n",
       "new registration                                                                                             169\n",
       "asking about financial assistance for dairy farming.                                                         165\n",
       "Name: count, dtype: int64"
      ]
     },
     "execution_count": 17,
     "metadata": {},
     "output_type": "execute_result"
    }
   ],
   "source": [
    "df3['questions'].value_counts().head(30)"
   ]
  },
  {
   "cell_type": "code",
   "execution_count": 18,
   "id": "9b088206-65bd-42b8-a40e-f334b39bd060",
   "metadata": {},
   "outputs": [
    {
     "data": {
      "text/plain": [
       "(153961, 2)"
      ]
     },
     "execution_count": 18,
     "metadata": {},
     "output_type": "execute_result"
    }
   ],
   "source": [
    "merged_df = pd.concat([df1_clean, df2_clean, df3], ignore_index=True)\n",
    "\n",
    "merged_df.drop_duplicates(inplace=True)\n",
    "merged_df.dropna(inplace=True)\n",
    "\n",
    "merged_df.shape"
   ]
  },
  {
   "cell_type": "code",
   "execution_count": 19,
   "id": "83f459fd-e75d-40f5-8865-2a88571c92e7",
   "metadata": {},
   "outputs": [],
   "source": [
    "df = merged_df"
   ]
  },
  {
   "cell_type": "code",
   "execution_count": 20,
   "id": "97b311dd-6697-4eae-864e-3d0fe2749aaf",
   "metadata": {},
   "outputs": [
    {
     "name": "stdout",
     "output_type": "stream",
     "text": [
      "Q: asking about the mobile number registered issue in pradhan mantri kisan samman nidhi yojana .\n",
      "A: ekyc is mandatory for pmkisan registered farmers. otp based ekyc is available on pmkisan portal or nearest csc centres may be contacted for biometric based ekyc. you will visit and contact your agriculture block office for update your mobile number.\n"
     ]
    },
    {
     "data": {
      "text/html": [
       "<div>\n",
       "<style scoped>\n",
       "    .dataframe tbody tr th:only-of-type {\n",
       "        vertical-align: middle;\n",
       "    }\n",
       "\n",
       "    .dataframe tbody tr th {\n",
       "        vertical-align: top;\n",
       "    }\n",
       "\n",
       "    .dataframe thead th {\n",
       "        text-align: right;\n",
       "    }\n",
       "</style>\n",
       "<table border=\"1\" class=\"dataframe\">\n",
       "  <thead>\n",
       "    <tr style=\"text-align: right;\">\n",
       "      <th></th>\n",
       "      <th>0</th>\n",
       "    </tr>\n",
       "  </thead>\n",
       "  <tbody>\n",
       "    <tr>\n",
       "      <th>0</th>\n",
       "      <td>Q: asking about the mobile number registered i...</td>\n",
       "    </tr>\n",
       "    <tr>\n",
       "      <th>1</th>\n",
       "      <td>Q: asking about status of pm-kisan samman nidh...</td>\n",
       "    </tr>\n",
       "    <tr>\n",
       "      <th>2</th>\n",
       "      <td>Q: asking about the urea and dap fertilizer.\\n...</td>\n",
       "    </tr>\n",
       "    <tr>\n",
       "      <th>3</th>\n",
       "      <td>Q: asking about the fish market.\\nA:</td>\n",
       "    </tr>\n",
       "    <tr>\n",
       "      <th>4</th>\n",
       "      <td>Q: asking about pm kisan samman nidhi yojana s...</td>\n",
       "    </tr>\n",
       "  </tbody>\n",
       "</table>\n",
       "</div>"
      ],
      "text/plain": [
       "                                                   0\n",
       "0  Q: asking about the mobile number registered i...\n",
       "1  Q: asking about status of pm-kisan samman nidh...\n",
       "2  Q: asking about the urea and dap fertilizer.\\n...\n",
       "3              Q: asking about the fish market.\\nA: \n",
       "4  Q: asking about pm kisan samman nidhi yojana s..."
      ]
     },
     "execution_count": 20,
     "metadata": {},
     "output_type": "execute_result"
    }
   ],
   "source": [
    "qa_pairs = df[['questions', 'answers']].apply(lambda row: f\"Q: {row['questions']}\\nA: {row['answers']}\", axis=1).tolist()\n",
    "print(qa_pairs[0])\n",
    "qa_pairs = pd.DataFrame(qa_pairs)\n",
    "qa_pairs.head()"
   ]
  },
  {
   "cell_type": "code",
   "execution_count": 22,
   "id": "93d2adb8-fabc-4ddc-9555-27d90578f2e9",
   "metadata": {},
   "outputs": [],
   "source": [
    "qa_pairs.to_csv('preprocessed_data.csv', index=False)"
   ]
  },
  {
   "cell_type": "code",
   "execution_count": 6,
   "id": "bc2163d1-b83a-4d12-b0ec-14281bde5c42",
   "metadata": {},
   "outputs": [
    {
     "name": "stderr",
     "output_type": "stream",
     "text": [
      "2025-05-25 18:44:09,453 - INFO - Merging 2 files...\n",
      "2025-05-25 18:44:09,455 - INFO - Processing file: a_n.csv\n",
      "2025-05-25 18:44:09,474 - INFO - Processing file: kerela_2024.csv\n",
      "2025-05-25 18:44:10,531 - INFO - Merged data saved to full_cleaned_merged.csv\n",
      "2025-05-25 18:44:10,531 - INFO - Merging 1 files...\n",
      "2025-05-25 18:44:10,546 - INFO - Processing file: kaggle.csv\n",
      "2025-05-25 18:44:11,287 - ERROR - Missing required columns: ['QueryText', 'KccAns']\n",
      "2025-05-25 18:44:11,315 - INFO - Merged data saved to merged_cleaned.csv\n",
      "2025-05-25 18:44:11,460 - INFO - Generating QA pairs...\n",
      "2025-05-25 18:44:11,892 - INFO - QA pairs saved to qa_pairs.csv\n"
     ]
    }
   ],
   "source": [
    "import pandas as pd\n",
    "import re\n",
    "import logging\n",
    "\n",
    "# Configure logging\n",
    "logging.basicConfig(level=logging.INFO, format=\"%(asctime)s - %(levelname)s - %(message)s\")\n",
    "\n",
    "# Define unwanted keywords for filtering\n",
    "UNWANTED_KEYWORDS = [\"blank call\", \"irrelevant call\", \"incomplete call\", \"outbound call\"]\n",
    "\n",
    "def clean_text(text: str) -> str:\n",
    "    \"\"\"Cleans text by removing unwanted characters and normalizing.\"\"\"\n",
    "    text = str(text).lower()\n",
    "    text = re.sub(r'[^\\w\\s@./(),-]', '', text)  # Keep @, /, ., (, ), -\n",
    "    text = re.sub(r'\\s+', ' ', text).strip()\n",
    "    return text\n",
    "\n",
    "def validate_columns(df: pd.DataFrame, required_columns: list) -> bool:\n",
    "    \"\"\"Checks if required columns exist in the DataFrame.\"\"\"\n",
    "    missing_cols = [col for col in required_columns if col not in df.columns]\n",
    "    if missing_cols:\n",
    "        logging.error(f\"Missing required columns: {missing_cols}\")\n",
    "        return False\n",
    "    return True\n",
    "\n",
    "def process_file(file_path: str, clean_data: bool = True) -> pd.DataFrame:\n",
    "    \"\"\"Processes a CSV file with optional cleaning.\"\"\"\n",
    "    logging.info(f\"Processing file: {file_path}\")\n",
    "\n",
    "    try:\n",
    "        df = pd.read_csv(file_path)\n",
    "        required_columns = ['QueryText', 'KccAns']\n",
    "\n",
    "        # Validate that the required columns exist\n",
    "        if not validate_columns(df, required_columns):\n",
    "            return pd.DataFrame()\n",
    "\n",
    "        df_clean = df[required_columns].rename(columns={'QueryText': 'questions', 'KccAns': 'answers'})\n",
    "\n",
    "        if clean_data:\n",
    "            df_clean.drop_duplicates(inplace=True)\n",
    "            df_clean.dropna(inplace=True)\n",
    "            df_clean['questions'] = df_clean['questions'].apply(clean_text)\n",
    "            df_clean['answers'] = df_clean['answers'].apply(clean_text)\n",
    "\n",
    "            # Remove entries containing unwanted keywords\n",
    "            df_clean = df_clean[~df_clean['questions'].str.contains('|'.join(UNWANTED_KEYWORDS), case=False, na=False)]\n",
    "\n",
    "        return df_clean\n",
    "    except Exception as e:\n",
    "        logging.error(f\"Unexpected error processing file {file_path}: {e}\")\n",
    "        return pd.DataFrame()\n",
    "\n",
    "def merge_files(file_paths: list, clean_data: bool = True, output_path: str = \"merged_data.csv\"):\n",
    "    \"\"\"Merges multiple files, with optional cleaning.\"\"\"\n",
    "    logging.info(f\"Merging {len(file_paths)} files...\")\n",
    "\n",
    "    merged_df = pd.DataFrame()\n",
    "    for file_path in file_paths:\n",
    "        df_clean = process_file(file_path, clean_data=clean_data)\n",
    "        merged_df = pd.concat([merged_df, df_clean], ignore_index=True)\n",
    "\n",
    "    merged_df.to_csv(output_path, index=False)\n",
    "    logging.info(f\"Merged data saved to {output_path}\")\n",
    "\n",
    "def format_qa_pairs(df: pd.DataFrame, output_path: str = \"qa_pairs.csv\"):\n",
    "    \"\"\"Formats dataframe into QA pairs.\"\"\"\n",
    "    if df.empty:\n",
    "        logging.warning(\"No data available to format into QA pairs.\")\n",
    "        return\n",
    "\n",
    "    logging.info(\"Generating QA pairs...\")\n",
    "    qa_pairs = df.apply(lambda row: f\"Q: {row['questions']}\\nA: {row['answers']}\", axis=1).tolist()\n",
    "    qa_pairs_df = pd.DataFrame(qa_pairs, columns=[\"QA_Pairs\"])\n",
    "\n",
    "    qa_pairs_df.to_csv(output_path, index=False)\n",
    "    logging.info(f\"QA pairs saved to {output_path}\")\n",
    "\n",
    "def main():\n",
    "    # Define input file paths\n",
    "    raw_files = ['a_n.csv', 'kerela_2024.csv']\n",
    "    cleaned_files = ['kaggle.csv']\n",
    "\n",
    "    # Full cleaning + merge\n",
    "    merge_files(raw_files, clean_data=True, output_path=\"full_cleaned_merged.csv\")\n",
    "\n",
    "    # Merge already cleaned files\n",
    "    merge_files(cleaned_files, clean_data=False, output_path=\"merged_cleaned.csv\")\n",
    "\n",
    "    # Format QA pairs from merged cleaned dataset\n",
    "    df_final = pd.read_csv(\"full_cleaned_merged.csv\")\n",
    "    format_qa_pairs(df_final)\n",
    "\n",
    "if __name__ == \"__main__\":\n",
    "    main()\n"
   ]
  },
  {
   "cell_type": "code",
   "execution_count": null,
   "id": "06e9e424-addf-4188-b935-8c82aa78f294",
   "metadata": {},
   "outputs": [],
   "source": []
  }
 ],
 "metadata": {
  "kernelspec": {
   "display_name": "Python 3 (ipykernel)",
   "language": "python",
   "name": "python3"
  },
  "language_info": {
   "codemirror_mode": {
    "name": "ipython",
    "version": 3
   },
   "file_extension": ".py",
   "mimetype": "text/x-python",
   "name": "python",
   "nbconvert_exporter": "python",
   "pygments_lexer": "ipython3",
   "version": "3.12.7"
  }
 },
 "nbformat": 4,
 "nbformat_minor": 5
}
